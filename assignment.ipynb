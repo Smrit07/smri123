{
 "cells": [
  {
   "cell_type": "code",
   "execution_count": 3,
   "metadata": {},
   "outputs": [
    {
     "name": "stdout",
     "output_type": "stream",
     "text": [
      "The number 4 is even.\n"
     ]
    }
   ],
   "source": [
    "#Section 1: Conditional Statement\n",
    "#Write a program that asks the user to enter a number and checks whether the number is even or odd.\n",
    "\n",
    "numbers = int(input(\"Enter a numbers: \"))\n",
    "if numbers % 2 == 0:\n",
    "    print(f\"The number {numbers} is even.\")\n",
    "else:\n",
    "    print(f\"The number {numbers} is odd.\")\n",
    "\n"
   ]
  },
  {
   "cell_type": "code",
   "execution_count": 4,
   "metadata": {},
   "outputs": [
    {
     "name": "stdout",
     "output_type": "stream",
     "text": [
      "The number 5.0 is positive.\n"
     ]
    }
   ],
   "source": [
    "#Write a program that asks the user to enter a number and checks whether it is positive, negative, or zero\n",
    "\n",
    "number = float(input(\"Enter a number: \"))\n",
    "if number > 0:\n",
    "    print(f\"The number {number} is positive.\")\n",
    "elif number < 0:\n",
    "    print(f\"The number {number} is negative.\")\n",
    "else:\n",
    "    print(\"The number is zero.\")\n"
   ]
  },
  {
   "cell_type": "code",
   "execution_count": 5,
   "metadata": {},
   "outputs": [
    {
     "name": "stdout",
     "output_type": "stream",
     "text": [
      "You are eligible to vote.\n"
     ]
    }
   ],
   "source": [
    "#Write a program that asks the user to enter their age and checks if they are eligible to vote \n",
    "# (18 years or older).\n",
    "\n",
    "age = int(input(\"Enter your age: \"))\n",
    "if age >= 18:\n",
    "    print(\"You are eligible to vote.\")\n",
    "else:\n",
    "    print(\"You are not eligible to vote. You must be at least 18 years old.\")\n"
   ]
  },
  {
   "cell_type": "code",
   "execution_count": 6,
   "metadata": {},
   "outputs": [
    {
     "name": "stdout",
     "output_type": "stream",
     "text": [
      "The triangle is Scalene (all sides are different).\n"
     ]
    }
   ],
   "source": [
    "#Write a program that takes the lengths of three sides of a triangle as input and determines if the triangle is:\n",
    "# Equilateral (all sides are equal)\n",
    "# Isosceles (two sides are equal)\n",
    "# Scalene (all sides are different)\n",
    "\n",
    "\n",
    "side1 = float(input(\"Enter the length of the first side: \"))\n",
    "side2 = float(input(\"Enter the length of the second side: \"))\n",
    "side3 = float(input(\"Enter the length of the third side: \"))\n",
    "\n",
    "if side1 + side2 > side3 and side1 + side3 > side2 and side2 + side3 > side1:\n",
    "    if side1 == side2 == side3:\n",
    "        print(\"The triangle is Equilateral (all sides are equal).\")\n",
    "    elif side1 == side2 or side1 == side3 or side2 == side3:\n",
    "        print(\"The triangle is Isosceles (two sides are equal).\")\n",
    "    else:\n",
    "        print(\"The triangle is Scalene (all sides are different).\")\n",
    "else:\n",
    "    print(\"The lengths provided do not form a valid triangle.\")\n",
    "\n"
   ]
  },
  {
   "cell_type": "code",
   "execution_count": 7,
   "metadata": {},
   "outputs": [
    {
     "name": "stdout",
     "output_type": "stream",
     "text": [
      "Access granted. Password is correct.\n"
     ]
    }
   ],
   "source": [
    "#Write a program that asks the user to enter a password and checks if it matches a predefined password\n",
    "#  (e.g., \"Python123\").\n",
    "\n",
    "# Predefined password\n",
    "predefined_password = \"smrit123\"\n",
    "\n",
    "user_password = input(\"Enter the password: \")\n",
    "\n",
    "if user_password == predefined_password:\n",
    "    print(\"Access granted. Password is correct.\")\n",
    "else:\n",
    "    print(\"Access denied. Incorrect password.\")\n"
   ]
  },
  {
   "cell_type": "code",
   "execution_count": 8,
   "metadata": {},
   "outputs": [
    {
     "name": "stdout",
     "output_type": "stream",
     "text": [
      "Multiplication Table of 6:\n",
      "6 x 1 = 6\n",
      "6 x 2 = 12\n",
      "6 x 3 = 18\n",
      "6 x 4 = 24\n",
      "6 x 5 = 30\n",
      "6 x 6 = 36\n",
      "6 x 7 = 42\n",
      "6 x 8 = 48\n",
      "6 x 9 = 54\n",
      "6 x 10 = 60\n"
     ]
    }
   ],
   "source": [
    "#Section 2: For Loops\n",
    "#Multiplication Table: Write a Python program to print the multiplication table of a given number using a for loop.\n",
    "#Example:\n",
    "#Input: 5\n",
    "#Output: 5, 10, 15, ..., 50\n",
    "\n",
    "number = int(input(\"Enter a number: \"))\n",
    "\n",
    "# Print the multiplication table\n",
    "print(f\"Multiplication Table of {number}:\")\n",
    "for i in range(1, 11):  # Loop from 1 to 10\n",
    "    result = number * i\n",
    "    print(f\"{number} x {i} = {result}\")\n",
    "\n"
   ]
  },
  {
   "cell_type": "code",
   "execution_count": 9,
   "metadata": {},
   "outputs": [
    {
     "name": "stdout",
     "output_type": "stream",
     "text": [
      "The number of vowels in the given string is: 1\n"
     ]
    }
   ],
   "source": [
    "#Count Vowels: Write a program to count and display the number of vowels in a given string.\n",
    "\n",
    "\n",
    "user_input = input(\"Enter a string: \")\n",
    "\n",
    "# Define the vowels\n",
    "vowels = \"aeiouAEIOU\"\n",
    "\n",
    "# Initialize a counter\n",
    "vowel_count = 0\n",
    "\n",
    "# Count the vowels in the string\n",
    "for char in user_input:\n",
    "    if char in vowels:\n",
    "        vowel_count += 1\n",
    "\n",
    "# Display the result\n",
    "print(f\"The number of vowels in the given string is: {vowel_count}\")\n"
   ]
  },
  {
   "cell_type": "code",
   "execution_count": 10,
   "metadata": {},
   "outputs": [
    {
     "name": "stdout",
     "output_type": "stream",
     "text": [
      "The sum of all even numbers in the list is: 4\n"
     ]
    }
   ],
   "source": [
    "#Sum of Even Numbers Create a program to find the sum of all even numbers in a list using a for loop.\n",
    "#Example:\n",
    "#Input: [2, 5, 8, 3]\n",
    "#Output: 10\n",
    "\n",
    "# Ask the user to enter a list of numbers\n",
    "numbers = list(map(int, input(\"Enter numbers separated by spaces: \").split()))\n",
    "\n",
    "# Initialize the sum of even numbers\n",
    "even_sum = 0\n",
    "\n",
    "for num in numbers:\n",
    "    if num % 2 == 0:  # Check if the number is even\n",
    "        even_sum += num\n",
    "\n",
    "print(f\"The sum of all even numbers in the list is: {even_sum}\")\n",
    "\n"
   ]
  },
  {
   "cell_type": "code",
   "execution_count": 11,
   "metadata": {},
   "outputs": [
    {
     "name": "stdout",
     "output_type": "stream",
     "text": [
      "The largest number is: 6\n",
      "The smallest number is: 6\n"
     ]
    }
   ],
   "source": [
    "#Create a program to find the largest and smallest numbers in a list using a for loop.\n",
    "#Example:\n",
    "#Input = [10, 20, 5, 8], Output = Largest = 20, Smallest = 5\n",
    "\n",
    "numbers = list(map(int, input(\"Enter numbers separated by spaces: \").split()))\n",
    "\n",
    "# Initialize variables for the largest and smallest numbers\n",
    "largest = numbers[0]\n",
    "smallest = numbers[0]\n",
    "\n",
    "# Find the largest and smallest numbers using a for loop\n",
    "for num in numbers:\n",
    "    if num > largest:\n",
    "        largest = num\n",
    "    if num < smallest:\n",
    "        smallest = num\n",
    "\n",
    "# Display the results\n",
    "print(f\"The largest number is: {largest}\")\n",
    "print(f\"The smallest number is: {smallest}\")\n"
   ]
  },
  {
   "cell_type": "code",
   "execution_count": 12,
   "metadata": {},
   "outputs": [
    {
     "name": "stdout",
     "output_type": "stream",
     "text": [
      "The sum of the digits of the number is: 6\n"
     ]
    }
   ],
   "source": [
    "#Write a program to calculate the sum of digits of a given number using a for loop.\n",
    "#Example: Input = 1234, Output = 10\n",
    "\n",
    "number = input(\"Enter a number: \")\n",
    "\n",
    "# Initialize the sum of digits\n",
    "digit_sum = 0\n",
    "\n",
    "# Calculate the sum of digits using a for loop\n",
    "for digit in number:\n",
    "    digit_sum += int(digit)  # Convert each character to an integer and add to the sum\n",
    "\n",
    "# Display the result\n",
    "print(f\"The sum of the digits of the number is: {digit_sum}\")\n",
    "\n"
   ]
  },
  {
   "cell_type": "code",
   "execution_count": 13,
   "metadata": {},
   "outputs": [
    {
     "name": "stdout",
     "output_type": "stream",
     "text": [
      "The reversed string is: k\n"
     ]
    }
   ],
   "source": [
    "#Write a program to reverse a given string using a for loop.\n",
    "#Example: Input = \"Python\", Output = \"nohtyP\"\n",
    "\n",
    "# Ask the user to enter a string\n",
    "user_input = input(\"Enter a string: \")\n",
    "\n",
    "# Initialize an empty string to store the reversed string\n",
    "reversed_string = \"\"\n",
    "\n",
    "# Reverse the string using a for loop\n",
    "for char in user_input:\n",
    "    reversed_string = char + reversed_string  \n",
    "\n",
    "# Display the reversed string\n",
    "print(f\"The reversed string is: {reversed_string}\")\n",
    "\n"
   ]
  },
  {
   "cell_type": "code",
   "execution_count": 14,
   "metadata": {},
   "outputs": [
    {
     "name": "stdout",
     "output_type": "stream",
     "text": [
      "The factorial of 67 is: 36471110918188685288249859096605464427167635314049524593701628500267962436943872000000000000000\n"
     ]
    }
   ],
   "source": [
    "#Section 3: Functions\n",
    "#Factorial Function: Write a function factorial(n) that returns the factorial of a number using a for loop.\n",
    "\n",
    "def factorial(n):\n",
    "    # Initialize the result to 1\n",
    "    result = 1\n",
    "    \n",
    "    for i in range(1, n + 1):\n",
    "        result *= i\n",
    "    \n",
    "    return result\n",
    "\n",
    "number = int(input(\"Enter a number to find its factorial: \"))\n",
    "\n",
    "# Call the factorial function and display the result\n",
    "print(f\"The factorial of {number} is: {factorial(number)}\")\n"
   ]
  },
  {
   "cell_type": "code",
   "execution_count": 15,
   "metadata": {},
   "outputs": [
    {
     "name": "stdout",
     "output_type": "stream",
     "text": [
      "Is 8 prime? False\n"
     ]
    }
   ],
   "source": [
    "#Prime Check Function: Create a function is_prime(n) to check whether a number is prime.\n",
    "#Example:\n",
    "#Input: 7\n",
    "#Output: True\n",
    "\n",
    "def is_prime(n):\n",
    "    # Prime numbers are greater than 1\n",
    "    if n <= 1:\n",
    "        return False\n",
    "    \n",
    "    # Check if the number is divisible by any number from 2 to the square root of n\n",
    "    for i in range(2, int(n**0.5) + 1):\n",
    "        if n % i == 0:\n",
    "            return False\n",
    "    \n",
    "    # If no divisors are found, the number is prime\n",
    "    return True\n",
    "\n",
    "number = int(input(\"Enter a number to check if it's prime: \"))\n",
    "\n",
    "print(f\"Is {number} prime? {is_prime(number)}\")\n"
   ]
  },
  {
   "cell_type": "code",
   "execution_count": 17,
   "metadata": {},
   "outputs": [
    {
     "name": "stdout",
     "output_type": "stream",
     "text": [
      "The maximum value in the list is: 7\n"
     ]
    }
   ],
   "source": [
    "#Find Maximum in List:Write a function find_max(lst) to find and return the maximum value in a list.\n",
    "#Example:\n",
    "#Input: [1, 3, 7, 0]\n",
    "#Output: 7\n",
    "\n",
    "def find_max(lst):\n",
    "    # Initialize max_value to the first element of the list\n",
    "    max_value = lst[0]\n",
    "    \n",
    "    for num in lst:\n",
    "        if num > max_value:\n",
    "            max_value = num\n",
    "    \n",
    "    return max_value\n",
    "\n",
    "numbers = list(map(int, input(\"Enter numbers separated by spaces: \").split()))\n",
    "\n",
    "print(f\"The maximum value in the list is: {find_max(numbers)}\")\n",
    "\n"
   ]
  },
  {
   "cell_type": "code",
   "execution_count": 18,
   "metadata": {},
   "outputs": [
    {
     "name": "stdout",
     "output_type": "stream",
     "text": [
      "Is the string a palindrome? None\n"
     ]
    }
   ],
   "source": [
    "#Write a function palindrome_check(string) that returns True if the given string is a palindrome, otherwise False.\n",
    "#Example: Input = \"radar\", Output = True\n",
    "\n",
    "# Function to check if a string is a palindrome\n",
    "def palindrome_check(string):\n",
    "    \n",
    "    cleaned_string = string.replace(\" \", \"\").lower()\n",
    "    \n",
    "user_input = input(\"Enter a string to check if it's a palindrome: \")\n",
    "\n",
    "print(f\"Is the string a palindrome? {palindrome_check(user_input)}\")\n"
   ]
  },
  {
   "cell_type": "code",
   "execution_count": 2,
   "metadata": {},
   "outputs": [
    {
     "name": "stdout",
     "output_type": "stream",
     "text": [
      "55\n"
     ]
    }
   ],
   "source": [
    "#Write a function sum_of_squares(n) that returns the sum of squares of the first n natural numbers.\n",
    "\n",
    "\n",
    "def sum_of_squares(n):\n",
    "   \n",
    "    return sum(i**2 for i in range(1, n+1))\n",
    "\n",
    "print(sum_of_squares(5))  \n",
    "\n"
   ]
  },
  {
   "cell_type": "code",
   "execution_count": 3,
   "metadata": {},
   "outputs": [
    {
     "name": "stdout",
     "output_type": "stream",
     "text": [
      "14\n"
     ]
    }
   ],
   "source": [
    "#Write a function sum_of_squares(n) that returns the sum of squares of the first n natural numbers.\n",
    "#Example: Input = 3, Output = 1^2 + 2^2 + 3^2 = 14\n",
    "\n",
    "\n",
    "def sum_of_squares(n):\n",
    "    # Using the mathematical formula for sum of squares: n(n+1)(2n+1)/6\n",
    "    return n * (n + 1) * (2 * n + 1) // 6\n",
    "\n",
    "print(sum_of_squares(3)) \n"
   ]
  },
  {
   "cell_type": "code",
   "execution_count": 4,
   "metadata": {},
   "outputs": [
    {
     "name": "stdout",
     "output_type": "stream",
     "text": [
      "Area: 15\n",
      "Perimeter: 16\n"
     ]
    }
   ],
   "source": [
    "#Section 4: Classes\n",
    "# Rectangle Class:Define a class Rectangle with:\n",
    "# \tTwo attributes: length and width.\n",
    "# A method area() to calculate the area.\n",
    "# A method perimeter() to calculate the perimeter.\n",
    "\n",
    "class Rectangle:\n",
    "    \n",
    "    def __init__(self, length, width):\n",
    "       \n",
    "        self.length = length\n",
    "        self.width = width\n",
    "\n",
    "    def area(self):\n",
    "       \n",
    "        return self.length * self.width\n",
    "\n",
    "    def perimeter(self):\n",
    "        \n",
    "        return 2 * (self.length + self.width)\n",
    "\n",
    "rectangle = Rectangle(5, 3)\n",
    "print(\"Area:\", rectangle.area())        \n",
    "print(\"Perimeter:\", rectangle.perimeter())\n",
    "\n"
   ]
  },
  {
   "cell_type": "code",
   "execution_count": 6,
   "metadata": {},
   "outputs": [
    {
     "name": "stdout",
     "output_type": "stream",
     "text": [
      "Name: smrit\n",
      "Roll Number: 101\n",
      "Marks: 75\n",
      "Passed: True\n",
      "Name: rijan\n",
      "Roll Number: 102\n",
      "Marks: 35\n",
      "Passed: False\n"
     ]
    }
   ],
   "source": [
    "#Student Class: Create a class Student with:\n",
    "# \tAttributes: name, roll_number, and marks.\n",
    "# A method display_details() to print the student's details.\n",
    "# A method is_passed() that returns True if marks ≥ 40, else False.\n",
    "\n",
    "class Student:\n",
    "    \n",
    "    \n",
    "    def __init__(self, name, roll_number, marks):\n",
    "        \n",
    "        self.name = name\n",
    "        self.roll_number = roll_number\n",
    "        self.marks = marks\n",
    "\n",
    "    def display_details(self):\n",
    "       \n",
    "        print(f\"Name: {self.name}\")\n",
    "        print(f\"Roll Number: {self.roll_number}\")\n",
    "        print(f\"Marks: {self.marks}\")\n",
    "\n",
    "    def is_passed(self):\n",
    "        \n",
    "        return self.marks >= 40\n",
    "\n",
    "student = Student(\"smrit\", 101, 75)\n",
    "student.display_details()\n",
    "print(\"Passed:\", student.is_passed()) \n",
    "\n",
    "student2 = Student(\"rijan\", 102, 35)\n",
    "student2.display_details()\n",
    "print(\"Passed:\", student2.is_passed())  "
   ]
  },
  {
   "cell_type": "code",
   "execution_count": 7,
   "metadata": {},
   "outputs": [
    {
     "name": "stdout",
     "output_type": "stream",
     "text": [
      "Area: 78.53981633974483\n",
      "Circumference: 31.41592653589793\n"
     ]
    }
   ],
   "source": [
    "#\tDefine a class Circle with:\n",
    "# \tAttribute: radius.\n",
    "# \tMethods: area() to calculate the area, circumference() to calculate the circumference.\n",
    "\n",
    "\n",
    "import math\n",
    "\n",
    "class Circle:\n",
    "    \n",
    "    \n",
    "    def __init__(self, radius):\n",
    "       \n",
    "        self.radius = radius\n",
    "\n",
    "    def area(self):\n",
    "        \n",
    "        return math.pi * self.radius ** 2\n",
    "\n",
    "    def circumference(self):\n",
    "       \n",
    "        return 2 * math.pi * self.radius\n",
    "\n",
    "circle = Circle(5)\n",
    "print(\"Area:\", circle.area())  \n",
    "print(\"Circumference:\", circle.circumference()) \n"
   ]
  },
  {
   "cell_type": "code",
   "execution_count": 8,
   "metadata": {},
   "outputs": [
    {
     "name": "stdout",
     "output_type": "stream",
     "text": [
      "Current balance: $500.00\n",
      "Deposited $200.00. New balance is $700.00.\n",
      "Withdrew $100.00. New balance is $600.00.\n",
      "Insufficient balance.\n"
     ]
    }
   ],
   "source": [
    "#Create a class BankAccount with:\n",
    "# \tAttributes: account_number, account_holder, balance.\n",
    "# \tMethods:\n",
    "# deposit(amount) to add money to the account.\n",
    "# withdraw(amount) to subtract money (if sufficient balance is available).\n",
    "# display_balance() to print the current balance.\n",
    "\n",
    "class BankAccount:\n",
    "    \n",
    "    def __init__(self, account_number, account_holder, balance=0):\n",
    "        \n",
    "        self.account_number = account_number\n",
    "        self.account_holder = account_holder\n",
    "        self.balance = balance\n",
    "\n",
    "    def deposit(self, amount):\n",
    "        \n",
    "        if amount > 0:\n",
    "            self.balance += amount\n",
    "            print(f\"Deposited ${amount:.2f}. New balance is ${self.balance:.2f}.\")\n",
    "        else:\n",
    "            print(\"Deposit amount must be positive.\")\n",
    "\n",
    "    def withdraw(self, amount):\n",
    "        \n",
    "        if amount > 0:\n",
    "            if amount <= self.balance:\n",
    "                self.balance -= amount\n",
    "                print(f\"Withdrew ${amount:.2f}. New balance is ${self.balance:.2f}.\")\n",
    "            else:\n",
    "                print(\"Insufficient balance.\")\n",
    "        else:\n",
    "            print(\"Withdrawal amount must be positive.\")\n",
    "\n",
    "    def display_balance(self):\n",
    "       \n",
    "        print(f\"Current balance: ${self.balance:.2f}\")\n",
    "\n",
    "# Example usage:\n",
    "account = BankAccount(\"12345678\", \"Smrit\", 500)\n",
    "account.display_balance() \n",
    "account.deposit(200)      \n",
    "account.withdraw(100)      \n",
    "account.withdraw(700)      \n",
    "\n"
   ]
  },
  {
   "cell_type": "code",
   "execution_count": 9,
   "metadata": {},
   "outputs": [
    {
     "name": "stdout",
     "output_type": "stream",
     "text": [
      "Title: Think and grow\n",
      "Author: Napoleon Hill\n",
      "Price: $20.00\n",
      "Discount of 10% applied. New price is $18.00.\n",
      "Title: Think and grow\n",
      "Author: Napoleon Hill\n",
      "Price: $18.00\n"
     ]
    }
   ],
   "source": [
    "#\tA class Book with:\n",
    "# \tAttributes: title, author, price.\n",
    "# \tMethods:\n",
    "# apply_discount(discount) to reduce the price by a given percentage.\n",
    "# display_details() to print the book details.\n",
    "\n",
    "\n",
    "\n",
    "class Book:\n",
    "    def __init__(self, title, author, price):\n",
    "        self.title = title\n",
    "        self.author = author\n",
    "        self.price = price\n",
    "\n",
    "    def apply_discount(self, discount):\n",
    "        \n",
    "        if 0 <= discount <= 100:\n",
    "            self.price -= self.price * (discount / 100)\n",
    "            print(f\"Discount of {discount}% applied. New price is ${self.price:.2f}.\")\n",
    "        else:\n",
    "            print(\"Invalid discount percentage. Please provide a value between 0 and 100.\")\n",
    "\n",
    "    def display_details(self):\n",
    "        \n",
    "        print(f\"Title: {self.title}\")\n",
    "        print(f\"Author: {self.author}\")\n",
    "        print(f\"Price: ${self.price:.2f}\")\n",
    "\n",
    "\n",
    "book = Book(\"Think and grow\", \"Napoleon Hill\", 20.0)\n",
    "book.display_details()\n",
    "book.apply_discount(10)  \n",
    "book.display_details()  "
   ]
  },
  {
   "cell_type": "code",
   "execution_count": 11,
   "metadata": {},
   "outputs": [
    {
     "name": "stdout",
     "output_type": "stream",
     "text": [
      "Add: 15\n",
      "Subtract: 5\n",
      "Multiply: 50\n",
      "Divide: 2.0\n",
      "Divide by zero: Error: Division by zero is not allowed.\n"
     ]
    }
   ],
   "source": [
    "#Create a class Calculator with:\n",
    "# \tA method add(a, b) to add two numbers.\n",
    "# A method subtract(a, b) to subtract two numbers.\n",
    "# A method multiply(a, b) to multiply two numbers.A method divide(a, b) to divide two numbers (handle division by zero gracefully).\n",
    "\n",
    "class Calculator:\n",
    "    \n",
    "    def add(self, a, b):\n",
    "        \n",
    "        return a + b\n",
    "\n",
    "    def subtract(self, a, b):\n",
    "       \n",
    "        return a - b\n",
    "\n",
    "    def multiply(self, a, b):\n",
    "        \n",
    "        return a * b\n",
    "\n",
    "    def divide(self, a, b):\n",
    "        \n",
    "        if b == 0:\n",
    "            return \"Error: Division by zero is not allowed.\"\n",
    "        return a / b\n",
    "\n",
    "calculator = Calculator()\n",
    "print(\"Add:\", calculator.add(10, 5))          \n",
    "print(\"Subtract:\", calculator.subtract(10, 5))  \n",
    "print(\"Multiply:\", calculator.multiply(10, 5)) \n",
    "print(\"Divide:\", calculator.divide(10, 5))      \n",
    "print(\"Divide by zero:\", calculator.divide(10, 0))  \n"
   ]
  },
  {
   "cell_type": "code",
   "execution_count": 12,
   "metadata": {},
   "outputs": [
    {
     "name": "stdout",
     "output_type": "stream",
     "text": [
      "Hello, my name is Smrit, I am 20 years old, and I am a male.\n",
      "Hello, my name is Aakriti, I am 20 years old, I am a female, and I work as a Nurse.\n"
     ]
    }
   ],
   "source": [
    "#Write a class Person with:\n",
    "# \tAttributes: name, age, gender.\n",
    "# Method introduce() to print a message like: \"Hello, my name is [name], I am [age] years old, and I am a [gender].\" ○ Create a subclass Employee that adds:\n",
    "# Attribute: job_title.\n",
    "#  Override introduce() to include the job title.\n",
    "\n",
    "\n",
    "class Person:\n",
    "    \n",
    "    def __init__(self, name, age, gender):\n",
    "        \n",
    "        self.name = name\n",
    "        self.age = age\n",
    "        self.gender = gender\n",
    "\n",
    "    def introduce(self):\n",
    "        \n",
    "        print(f\"Hello, my name is {self.name}, I am {self.age} years old, and I am a {self.gender}.\")\n",
    "\n",
    "\n",
    "class Employee(Person):\n",
    "   \n",
    "    def __init__(self, name, age, gender, job_title):\n",
    "        \n",
    "        super().__init__(name, age, gender)\n",
    "        self.job_title = job_title\n",
    "\n",
    "    def introduce(self):\n",
    "       \n",
    "        print(f\"Hello, my name is {self.name}, I am {self.age} years old, I am a {self.gender}, and I work as a {self.job_title}.\")\n",
    "\n",
    "person = Person(\"Smrit\", 20, \"male\")\n",
    "person.introduce()  \n",
    "\n",
    "employee = Employee(\"Aakriti\", 20, \"female\", \"Nurse\")\n",
    "employee.introduce()  \n"
   ]
  },
  {
   "cell_type": "code",
   "execution_count": 13,
   "metadata": {},
   "outputs": [
    {
     "name": "stdout",
     "output_type": "stream",
     "text": [
      "1\n",
      "2\n",
      "3\n",
      "4\n",
      "5\n",
      "6\n",
      "7\n",
      "8\n",
      "9\n",
      "10\n",
      "\n"
     ]
    }
   ],
   "source": [
    "#Section 4: File Handling\n",
    "# \tFile Creation and Writing: Write a Python script to:\n",
    "# Create a file named data.txt.\n",
    "# Write the numbers from 1 to 10 (each on a new line) to the file.\n",
    "# Read the file and print its contents.\n",
    "\n",
    "#  Create a file named 'data.txt' and write the numbers from 1 to 10.\n",
    "with open(\"data.txt\", \"w\") as file:\n",
    "    for i in range(1, 11):\n",
    "        file.write(f\"{i}\\n\")\n",
    "\n",
    "# Step 2: Read the file and print its contents.\n",
    "with open(\"data.txt\", \"r\") as file:\n",
    "    content = file.read()\n",
    "    print(content)\n"
   ]
  },
  {
   "cell_type": "code",
   "execution_count": 14,
   "metadata": {},
   "outputs": [
    {
     "name": "stdout",
     "output_type": "stream",
     "text": [
      "The file sample.txt does not exist.\n",
      "The number of words in sample.txt is: 0\n"
     ]
    }
   ],
   "source": [
    "#Write a program that reads a file named sample.txt, counts the number of words in it, and prints the result.\n",
    "\n",
    "# Function to count words in a file\n",
    "def count_words_in_file(filename):\n",
    "    try:\n",
    "        # Open the file in read mode\n",
    "        with open(filename, 'r') as file:\n",
    "            # Read the contents of the file\n",
    "            content = file.read()\n",
    "            \n",
    "            # Split the content into words based on spaces\n",
    "            words = content.split()\n",
    "            \n",
    "            # Count the number of words\n",
    "            word_count = len(words)\n",
    "            \n",
    "            return word_count\n",
    "    except FileNotFoundError:\n",
    "        print(f\"The file {filename} does not exist.\")\n",
    "        return 0\n",
    "\n",
    "filename = \"sample.txt\"\n",
    "word_count = count_words_in_file(filename)\n",
    "print(f\"The number of words in {filename} is: {word_count}\")\n"
   ]
  },
  {
   "cell_type": "code",
   "execution_count": 15,
   "metadata": {},
   "outputs": [
    {
     "name": "stdout",
     "output_type": "stream",
     "text": [
      "The result of dividing 34.0 by 34.0 is: 1.0\n"
     ]
    }
   ],
   "source": [
    "#Section 5: Error Handling\n",
    "# Division with Error Handling: Write a program that takes two numbers as input and divides the first number by the second.\n",
    "# \tUse try and except to handle the division by zero error.\n",
    "\n",
    "\n",
    "# Function to perform division with error handling\n",
    "def divide_numbers():\n",
    "    try:\n",
    "        # Taking two numbers as input\n",
    "        num1 = float(input(\"Enter the first number: \"))\n",
    "        num2 = float(input(\"Enter the second number: \"))\n",
    "        \n",
    "        # Perform division\n",
    "        result = num1 / num2\n",
    "        print(f\"The result of dividing {num1} by {num2} is: {result}\")\n",
    "        \n",
    "    except ZeroDivisionError:\n",
    "        # Handle division by zero error\n",
    "        print(\"Error: Division by zero is not allowed.\")\n",
    "    except ValueError:\n",
    "        # Handle invalid input (e.g., non-numeric input)\n",
    "        print(\"Error: Please enter valid numbers.\")\n",
    "\n",
    "# Call the function\n",
    "divide_numbers()\n"
   ]
  },
  {
   "cell_type": "code",
   "execution_count": 17,
   "metadata": {},
   "outputs": [
    {
     "name": "stdout",
     "output_type": "stream",
     "text": [
      "Invalid input, please enter an integer.\n"
     ]
    }
   ],
   "source": [
    "#\tInteger Input Validation: Create a program that asks the user to input an integer.\n",
    "# \tUse try, except, and else to handle invalid input.\n",
    "# Example:\n",
    "# Input: abc\n",
    "# Output: \"Invalid input, please enter an integer.\"\n",
    "\n",
    "# Function to handle integer input validation\n",
    "def get_integer_input():\n",
    "    try:\n",
    "        # Ask the user for input\n",
    "        user_input = input(\"Please enter an integer: \")\n",
    "        \n",
    "        # Try to convert the input to an integer\n",
    "        user_integer = int(user_input)\n",
    "        \n",
    "    except ValueError:\n",
    "        # Handle invalid input (non-integer)\n",
    "        print(\"Invalid input, please enter an integer.\")\n",
    "    else:\n",
    "        # If the input is valid, print the integer\n",
    "        print(f\"You entered the integer: {user_integer}\")\n",
    "\n",
    "# Call the function\n",
    "get_integer_input()\n",
    "\n"
   ]
  },
  {
   "cell_type": "code",
   "execution_count": null,
   "metadata": {},
   "outputs": [],
   "source": [
    "#\tFile Not Found Error Handling: Write a script that:\n",
    "#  Opens a file named unknown.txt.\n",
    "# Handles the FileNotFoundError gracefully and prints an appropriate message.\n",
    "\n",
    "    # Attempt to open the file\n",
    "    with open(\"unknown.txt\", \"r\") as file:\n",
    "        content = file.read()\n",
    "        print(content)\n",
    "    except FileNotFoundError:\n",
    "    # Handle the error and provide a friendly message\n",
    "    print(\"Error: The file 'unknown.txt' was not found. Please check the file name or path and try again.\")\n"
   ]
  }
 ],
 "metadata": {
  "kernelspec": {
   "display_name": "Python 3",
   "language": "python",
   "name": "python3"
  },
  "language_info": {
   "codemirror_mode": {
    "name": "ipython",
    "version": 3
   },
   "file_extension": ".py",
   "mimetype": "text/x-python",
   "name": "python",
   "nbconvert_exporter": "python",
   "pygments_lexer": "ipython3",
   "version": "3.13.0"
  }
 },
 "nbformat": 4,
 "nbformat_minor": 2
}
