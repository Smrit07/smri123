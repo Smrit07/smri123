{
 "cells": [
  {
   "cell_type": "code",
   "execution_count": 3,
   "metadata": {},
   "outputs": [
    {
     "name": "stdout",
     "output_type": "stream",
     "text": [
      "The number 4 is even.\n"
     ]
    }
   ],
   "source": [
    "#Section 1: Conditional Statement\n",
    "#Write a program that asks the user to enter a number and checks whether the number is even or odd.\n",
    "\n",
    "numbers = int(input(\"Enter a numbers: \"))\n",
    "if numbers % 2 == 0:\n",
    "    print(f\"The number {numbers} is even.\")\n",
    "else:\n",
    "    print(f\"The number {numbers} is odd.\")\n",
    "\n"
   ]
  },
  {
   "cell_type": "code",
   "execution_count": 4,
   "metadata": {},
   "outputs": [
    {
     "name": "stdout",
     "output_type": "stream",
     "text": [
      "The number 5.0 is positive.\n"
     ]
    }
   ],
   "source": [
    "#Write a program that asks the user to enter a number and checks whether it is positive, negative, or zero\n",
    "\n",
    "number = float(input(\"Enter a number: \"))\n",
    "if number > 0:\n",
    "    print(f\"The number {number} is positive.\")\n",
    "elif number < 0:\n",
    "    print(f\"The number {number} is negative.\")\n",
    "else:\n",
    "    print(\"The number is zero.\")\n"
   ]
  },
  {
   "cell_type": "code",
   "execution_count": 5,
   "metadata": {},
   "outputs": [
    {
     "name": "stdout",
     "output_type": "stream",
     "text": [
      "You are eligible to vote.\n"
     ]
    }
   ],
   "source": [
    "#Write a program that asks the user to enter their age and checks if they are eligible to vote \n",
    "# (18 years or older).\n",
    "\n",
    "age = int(input(\"Enter your age: \"))\n",
    "if age >= 18:\n",
    "    print(\"You are eligible to vote.\")\n",
    "else:\n",
    "    print(\"You are not eligible to vote. You must be at least 18 years old.\")\n"
   ]
  },
  {
   "cell_type": "code",
   "execution_count": 6,
   "metadata": {},
   "outputs": [
    {
     "name": "stdout",
     "output_type": "stream",
     "text": [
      "The triangle is Scalene (all sides are different).\n"
     ]
    }
   ],
   "source": [
    "#Write a program that takes the lengths of three sides of a triangle as input and determines if the triangle is:\n",
    "# Equilateral (all sides are equal)\n",
    "# Isosceles (two sides are equal)\n",
    "# Scalene (all sides are different)\n",
    "\n",
    "\n",
    "side1 = float(input(\"Enter the length of the first side: \"))\n",
    "side2 = float(input(\"Enter the length of the second side: \"))\n",
    "side3 = float(input(\"Enter the length of the third side: \"))\n",
    "\n",
    "if side1 + side2 > side3 and side1 + side3 > side2 and side2 + side3 > side1:\n",
    "    if side1 == side2 == side3:\n",
    "        print(\"The triangle is Equilateral (all sides are equal).\")\n",
    "    elif side1 == side2 or side1 == side3 or side2 == side3:\n",
    "        print(\"The triangle is Isosceles (two sides are equal).\")\n",
    "    else:\n",
    "        print(\"The triangle is Scalene (all sides are different).\")\n",
    "else:\n",
    "    print(\"The lengths provided do not form a valid triangle.\")\n",
    "\n"
   ]
  },
  {
   "cell_type": "code",
   "execution_count": 7,
   "metadata": {},
   "outputs": [
    {
     "name": "stdout",
     "output_type": "stream",
     "text": [
      "Access granted. Password is correct.\n"
     ]
    }
   ],
   "source": [
    "#Write a program that asks the user to enter a password and checks if it matches a predefined password\n",
    "#  (e.g., \"Python123\").\n",
    "\n",
    "# Predefined password\n",
    "predefined_password = \"smrit123\"\n",
    "\n",
    "user_password = input(\"Enter the password: \")\n",
    "\n",
    "if user_password == predefined_password:\n",
    "    print(\"Access granted. Password is correct.\")\n",
    "else:\n",
    "    print(\"Access denied. Incorrect password.\")\n"
   ]
  },
  {
   "cell_type": "code",
   "execution_count": 8,
   "metadata": {},
   "outputs": [
    {
     "name": "stdout",
     "output_type": "stream",
     "text": [
      "Multiplication Table of 6:\n",
      "6 x 1 = 6\n",
      "6 x 2 = 12\n",
      "6 x 3 = 18\n",
      "6 x 4 = 24\n",
      "6 x 5 = 30\n",
      "6 x 6 = 36\n",
      "6 x 7 = 42\n",
      "6 x 8 = 48\n",
      "6 x 9 = 54\n",
      "6 x 10 = 60\n"
     ]
    }
   ],
   "source": [
    "#Section 2: For Loops\n",
    "#Multiplication Table: Write a Python program to print the multiplication table of a given number using a for loop.\n",
    "#Example:\n",
    "#Input: 5\n",
    "#Output: 5, 10, 15, ..., 50\n",
    "\n",
    "number = int(input(\"Enter a number: \"))\n",
    "\n",
    "# Print the multiplication table\n",
    "print(f\"Multiplication Table of {number}:\")\n",
    "for i in range(1, 11):  # Loop from 1 to 10\n",
    "    result = number * i\n",
    "    print(f\"{number} x {i} = {result}\")\n",
    "\n"
   ]
  },
  {
   "cell_type": "code",
   "execution_count": 9,
   "metadata": {},
   "outputs": [
    {
     "name": "stdout",
     "output_type": "stream",
     "text": [
      "The number of vowels in the given string is: 1\n"
     ]
    }
   ],
   "source": [
    "#Count Vowels: Write a program to count and display the number of vowels in a given string.\n",
    "\n",
    "\n",
    "user_input = input(\"Enter a string: \")\n",
    "\n",
    "# Define the vowels\n",
    "vowels = \"aeiouAEIOU\"\n",
    "\n",
    "# Initialize a counter\n",
    "vowel_count = 0\n",
    "\n",
    "# Count the vowels in the string\n",
    "for char in user_input:\n",
    "    if char in vowels:\n",
    "        vowel_count += 1\n",
    "\n",
    "# Display the result\n",
    "print(f\"The number of vowels in the given string is: {vowel_count}\")\n"
   ]
  },
  {
   "cell_type": "code",
   "execution_count": 10,
   "metadata": {},
   "outputs": [
    {
     "name": "stdout",
     "output_type": "stream",
     "text": [
      "The sum of all even numbers in the list is: 4\n"
     ]
    }
   ],
   "source": [
    "#Sum of Even Numbers Create a program to find the sum of all even numbers in a list using a for loop.\n",
    "#Example:\n",
    "#Input: [2, 5, 8, 3]\n",
    "#Output: 10\n",
    "\n",
    "# Ask the user to enter a list of numbers\n",
    "numbers = list(map(int, input(\"Enter numbers separated by spaces: \").split()))\n",
    "\n",
    "# Initialize the sum of even numbers\n",
    "even_sum = 0\n",
    "\n",
    "for num in numbers:\n",
    "    if num % 2 == 0:  # Check if the number is even\n",
    "        even_sum += num\n",
    "\n",
    "print(f\"The sum of all even numbers in the list is: {even_sum}\")\n",
    "\n"
   ]
  },
  {
   "cell_type": "code",
   "execution_count": 11,
   "metadata": {},
   "outputs": [
    {
     "name": "stdout",
     "output_type": "stream",
     "text": [
      "The largest number is: 6\n",
      "The smallest number is: 6\n"
     ]
    }
   ],
   "source": [
    "#Create a program to find the largest and smallest numbers in a list using a for loop.\n",
    "#Example:\n",
    "#Input = [10, 20, 5, 8], Output = Largest = 20, Smallest = 5\n",
    "\n",
    "numbers = list(map(int, input(\"Enter numbers separated by spaces: \").split()))\n",
    "\n",
    "# Initialize variables for the largest and smallest numbers\n",
    "largest = numbers[0]\n",
    "smallest = numbers[0]\n",
    "\n",
    "# Find the largest and smallest numbers using a for loop\n",
    "for num in numbers:\n",
    "    if num > largest:\n",
    "        largest = num\n",
    "    if num < smallest:\n",
    "        smallest = num\n",
    "\n",
    "# Display the results\n",
    "print(f\"The largest number is: {largest}\")\n",
    "print(f\"The smallest number is: {smallest}\")\n"
   ]
  },
  {
   "cell_type": "code",
   "execution_count": 12,
   "metadata": {},
   "outputs": [
    {
     "name": "stdout",
     "output_type": "stream",
     "text": [
      "The sum of the digits of the number is: 6\n"
     ]
    }
   ],
   "source": [
    "#Write a program to calculate the sum of digits of a given number using a for loop.\n",
    "#Example: Input = 1234, Output = 10\n",
    "\n",
    "number = input(\"Enter a number: \")\n",
    "\n",
    "# Initialize the sum of digits\n",
    "digit_sum = 0\n",
    "\n",
    "# Calculate the sum of digits using a for loop\n",
    "for digit in number:\n",
    "    digit_sum += int(digit)  # Convert each character to an integer and add to the sum\n",
    "\n",
    "# Display the result\n",
    "print(f\"The sum of the digits of the number is: {digit_sum}\")\n",
    "\n"
   ]
  },
  {
   "cell_type": "code",
   "execution_count": 13,
   "metadata": {},
   "outputs": [
    {
     "name": "stdout",
     "output_type": "stream",
     "text": [
      "The reversed string is: k\n"
     ]
    }
   ],
   "source": [
    "#Write a program to reverse a given string using a for loop.\n",
    "#Example: Input = \"Python\", Output = \"nohtyP\"\n",
    "\n",
    "# Ask the user to enter a string\n",
    "user_input = input(\"Enter a string: \")\n",
    "\n",
    "# Initialize an empty string to store the reversed string\n",
    "reversed_string = \"\"\n",
    "\n",
    "# Reverse the string using a for loop\n",
    "for char in user_input:\n",
    "    reversed_string = char + reversed_string  \n",
    "\n",
    "# Display the reversed string\n",
    "print(f\"The reversed string is: {reversed_string}\")\n",
    "\n"
   ]
  },
  {
   "cell_type": "code",
   "execution_count": 14,
   "metadata": {},
   "outputs": [
    {
     "name": "stdout",
     "output_type": "stream",
     "text": [
      "The factorial of 67 is: 36471110918188685288249859096605464427167635314049524593701628500267962436943872000000000000000\n"
     ]
    }
   ],
   "source": [
    "#Section 3: Functions\n",
    "#Factorial Function: Write a function factorial(n) that returns the factorial of a number using a for loop.\n",
    "\n",
    "def factorial(n):\n",
    "    # Initialize the result to 1\n",
    "    result = 1\n",
    "    \n",
    "    for i in range(1, n + 1):\n",
    "        result *= i\n",
    "    \n",
    "    return result\n",
    "\n",
    "number = int(input(\"Enter a number to find its factorial: \"))\n",
    "\n",
    "# Call the factorial function and display the result\n",
    "print(f\"The factorial of {number} is: {factorial(number)}\")\n"
   ]
  },
  {
   "cell_type": "code",
   "execution_count": 15,
   "metadata": {},
   "outputs": [
    {
     "name": "stdout",
     "output_type": "stream",
     "text": [
      "Is 8 prime? False\n"
     ]
    }
   ],
   "source": [
    "#Prime Check Function: Create a function is_prime(n) to check whether a number is prime.\n",
    "#Example:\n",
    "#Input: 7\n",
    "#Output: True\n",
    "\n",
    "def is_prime(n):\n",
    "    # Prime numbers are greater than 1\n",
    "    if n <= 1:\n",
    "        return False\n",
    "    \n",
    "    # Check if the number is divisible by any number from 2 to the square root of n\n",
    "    for i in range(2, int(n**0.5) + 1):\n",
    "        if n % i == 0:\n",
    "            return False\n",
    "    \n",
    "    # If no divisors are found, the number is prime\n",
    "    return True\n",
    "\n",
    "number = int(input(\"Enter a number to check if it's prime: \"))\n",
    "\n",
    "print(f\"Is {number} prime? {is_prime(number)}\")\n"
   ]
  },
  {
   "cell_type": "code",
   "execution_count": 17,
   "metadata": {},
   "outputs": [
    {
     "name": "stdout",
     "output_type": "stream",
     "text": [
      "The maximum value in the list is: 7\n"
     ]
    }
   ],
   "source": [
    "#Find Maximum in List:Write a function find_max(lst) to find and return the maximum value in a list.\n",
    "#Example:\n",
    "#Input: [1, 3, 7, 0]\n",
    "#Output: 7\n",
    "\n",
    "def find_max(lst):\n",
    "    # Initialize max_value to the first element of the list\n",
    "    max_value = lst[0]\n",
    "    \n",
    "    for num in lst:\n",
    "        if num > max_value:\n",
    "            max_value = num\n",
    "    \n",
    "    return max_value\n",
    "\n",
    "numbers = list(map(int, input(\"Enter numbers separated by spaces: \").split()))\n",
    "\n",
    "print(f\"The maximum value in the list is: {find_max(numbers)}\")\n",
    "\n"
   ]
  },
  {
   "cell_type": "code",
   "execution_count": 18,
   "metadata": {},
   "outputs": [
    {
     "name": "stdout",
     "output_type": "stream",
     "text": [
      "Is the string a palindrome? None\n"
     ]
    }
   ],
   "source": [
    "#Write a function palindrome_check(string) that returns True if the given string is a palindrome, otherwise False.\n",
    "#Example: Input = \"radar\", Output = True\n",
    "\n",
    "# Function to check if a string is a palindrome\n",
    "def palindrome_check(string):\n",
    "    \n",
    "    cleaned_string = string.replace(\" \", \"\").lower()\n",
    "    \n",
    "user_input = input(\"Enter a string to check if it's a palindrome: \")\n",
    "\n",
    "print(f\"Is the string a palindrome? {palindrome_check(user_input)}\")\n"
   ]
  },
  {
   "cell_type": "code",
   "execution_count": null,
   "metadata": {},
   "outputs": [],
   "source": []
  }
 ],
 "metadata": {
  "kernelspec": {
   "display_name": "Python 3",
   "language": "python",
   "name": "python3"
  },
  "language_info": {
   "codemirror_mode": {
    "name": "ipython",
    "version": 3
   },
   "file_extension": ".py",
   "mimetype": "text/x-python",
   "name": "python",
   "nbconvert_exporter": "python",
   "pygments_lexer": "ipython3",
   "version": "3.13.0"
  }
 },
 "nbformat": 4,
 "nbformat_minor": 2
}
